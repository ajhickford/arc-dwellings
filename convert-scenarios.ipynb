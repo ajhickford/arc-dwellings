{
 "cells": [
  {
   "cell_type": "code",
   "execution_count": null,
   "metadata": {},
   "outputs": [],
   "source": [
    "import os\n",
    "\n",
    "import pandas\n",
    "%matplotlib inline"
   ]
  },
  {
   "cell_type": "code",
   "execution_count": null,
   "metadata": {},
   "outputs": [],
   "source": [
    "data_path = os.path.join('.', 'data_as_provided')\n",
    "output_path = os.path.join('.', 'data_processed')\n",
    "\n",
    "baseline_file = os.path.join(data_path, 'Scenario Baseline - Dwelling+Employment projections.xlsx')\n",
    "expansion_file = os.path.join(data_path, 'Scenario Expansion - Dwelling+Employment projections.xlsx')\n",
    "settlements_file = os.path.join(data_path, 'Scenario New Settlements - Dwelling+Employment projections.xlsx')\n",
    "unplanned_file = os.path.join(data_path, 'Scenario Unplanned Development - Dwelling+Employment projections.xlsx')"
   ]
  },
  {
   "cell_type": "code",
   "execution_count": null,
   "metadata": {},
   "outputs": [],
   "source": [
    "def read_excel_into_df(filename, sheet_name):\n",
    "    \n",
    "    years = [str(x) for x in range(2004, 2050)]\n",
    "    types = {str(year): int for year in years}\n",
    "    \n",
    "    return pandas.read_excel(\n",
    "        filename, \n",
    "        sheet_name=sheet_name, \n",
    "        header=3, \n",
    "        index_col=0,\n",
    "        names=['Area Name'].extend(years),\n",
    "        nrows=22,\n",
    "        dtype=types\n",
    "    )\n",
    "\n",
    "def process_df(df):\n",
    "    df = df.dropna(\n",
    "        ).reset_index(\n",
    "        ).melt(\n",
    "            id_vars='Area Name',\n",
    "            var_name='timestep',\n",
    "            value_name='dwellings')\n",
    "    df = df.set_index(['Area Name', 'timestep'])\n",
    "    return df\n",
    "\n",
    "lad_nmcds = pandas.read_csv(os.path.join(data_path, 'lad_nmcd_changes.csv'))\n",
    "lad_nmcds = lad_nmcds[['lad11nm', 'lad11cd', 'lad18nm', 'lad18cd']]\n",
    "all_lad_nms = set(lad_nmcds.lad11nm)\n",
    "\n",
    "def add_lad_codes(df):\n",
    "\n",
    "    baseline_lad_nms = set(df.reset_index()['Area Name'].unique())\n",
    "    df_wlad = df.reset_index().merge(lad_nmcds, \n",
    "                                           left_on='Area Name', \n",
    "                                           right_on='lad11nm').drop(columns='Area Name')\n",
    "    return df_wlad\n",
    "\n",
    "def write_out(df, filename):\n",
    "    df.to_csv(os.path.join(output_path, filename), index=False)"
   ]
  },
  {
   "cell_type": "code",
   "execution_count": null,
   "metadata": {},
   "outputs": [],
   "source": [
    "baseline = read_excel_into_df(baseline_file, 'Projection dwelling baseline')\n",
    "expansion = read_excel_into_df(expansion_file, 'Projection Expansion data')\n",
    "settlements = read_excel_into_df(settlements_file, 'Projection New Settlem data')\n",
    "unplanned = read_excel_into_df(unplanned_file, 'Projection UnplannedDev')\n",
    "\n",
    "baseline = process_df(baseline)\n",
    "expansion = process_df(expansion)\n",
    "settlements = process_df(settlements)\n",
    "unplanned = process_df(unplanned)\n",
    "\n",
    "baseline = add_lad_codes(baseline)\n",
    "expansion = add_lad_codes(expansion)\n",
    "settlements = add_lad_codes(settlements)\n",
    "unplanned = add_lad_codes(unplanned)\n",
    "\n",
    "write_out(baseline, 'baseline.csv')\n",
    "write_out(expansion, 'expansion.csv')\n",
    "write_out(settlements, 'settlements.csv')\n",
    "write_out(unplanned, 'unplanned.csv')"
   ]
  },
  {
   "cell_type": "markdown",
   "metadata": {},
   "source": [
    "### Different LAD codes"
   ]
  },
  {
   "cell_type": "code",
   "execution_count": null,
   "metadata": {},
   "outputs": [],
   "source": [
    "baseline_wlad[\n",
    "    (baseline_wlad.lad11nm != baseline_wlad.lad18nm) | \n",
    "    (baseline_wlad.lad11cd != baseline_wlad.lad18cd)].lad18nm.unique()"
   ]
  }
 ],
 "metadata": {
  "kernelspec": {
   "display_name": "Python 3",
   "language": "python",
   "name": "python3"
  },
  "language_info": {
   "codemirror_mode": {
    "name": "ipython",
    "version": 3
   },
   "file_extension": ".py",
   "mimetype": "text/x-python",
   "name": "python",
   "nbconvert_exporter": "python",
   "pygments_lexer": "ipython3",
   "version": "3.7.1"
  }
 },
 "nbformat": 4,
 "nbformat_minor": 2
}

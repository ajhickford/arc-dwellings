{
 "cells": [
  {
   "cell_type": "code",
   "execution_count": 1,
   "metadata": {},
   "outputs": [
    {
     "name": "stderr",
     "output_type": "stream",
     "text": [
      "/Users/will2/miniconda3/envs/smif/lib/python3.7/site-packages/matplotlib/__init__.py:846: MatplotlibDeprecationWarning: \n",
      "The backend.qt4 rcparam was deprecated in Matplotlib 2.2 and will be removed in 3.1. In order to force the use of a specific Qt binding, either import that binding first, or set the QT_API environment variable.\n",
      "  \"2.2\", name=key, obj_type=\"rcparam\", addendum=addendum)\n"
     ]
    }
   ],
   "source": [
    "import os\n",
    "\n",
    "import pandas as pd\n",
    "%matplotlib inline\n",
    "\n",
    "import ukpopulation.utils as ukpoputils\n",
    "import ukpopulation.snhpdata as SNHPData"
   ]
  },
  {
   "cell_type": "markdown",
   "metadata": {},
   "source": [
    "# Read in the raw data"
   ]
  },
  {
   "cell_type": "code",
   "execution_count": 2,
   "metadata": {},
   "outputs": [],
   "source": [
    "data_path = os.path.join('.', 'data_as_provided')\n",
    "output_path = os.path.join('.', 'data_processed')\n",
    "\n",
    "baseline_file = os.path.join(data_path, 'Scenario Baseline - Dwelling+Employment projections.xlsx')\n",
    "expansion_file = os.path.join(data_path, 'Scenario Expansion - Dwelling+Employment projections.xlsx')\n",
    "settlements_file = os.path.join(data_path, 'Scenario New Settlements - Dwelling+Employment projections.xlsx')\n",
    "unplanned_file = os.path.join(data_path, 'Scenario Unplanned Development - Dwelling+Employment projections.xlsx')"
   ]
  },
  {
   "cell_type": "code",
   "execution_count": 3,
   "metadata": {},
   "outputs": [],
   "source": [
    "def get_households(year, geogs, df): \n",
    "    \"\"\"Use UKPopulation to obtain historical and extrapolated household data for all other LADs\n",
    "    \n",
    "    Arguments\n",
    "    ---------\n",
    "    year : int\n",
    "    geogs : list\n",
    "    df : pandas.DataFrame\n",
    "        The raw data\n",
    "    \n",
    "    Returns\n",
    "    -------\n",
    "    pandas.DataFrame\n",
    "    \"\"\"\n",
    "\n",
    "    geogs = ukpoputils.split_by_country(geogs)\n",
    "\n",
    "    allsnhp = pd.DataFrame()\n",
    "\n",
    "    for country in geogs:\n",
    "        if not geogs[country]: continue\n",
    "        max_year = df.max_year(country)\n",
    "        min_year = df.min_year(country)\n",
    "\n",
    "        if year <= max_year:\n",
    "            if year <= min_year:\n",
    "                snhp = df.aggregate(geogs[country], min_year+1).merge(\n",
    "                            df.aggregate(geogs[country], min_year), \n",
    "                            left_on=\"GEOGRAPHY_CODE\", right_on=\"GEOGRAPHY_CODE\")\n",
    "                snhp[\"HOUSEHOLDS\"] = snhp.OBS_VALUE_y + (snhp.OBS_VALUE_y - snhp.OBS_VALUE_x) * (min_year - year)\n",
    "                snhp[\"PROJECTED_YEAR_NAME\"] = year\n",
    "                snhp.drop([\"PROJECTED_YEAR_NAME_x\", \"OBS_VALUE_x\", \"PROJECTED_YEAR_NAME_y\", \"OBS_VALUE_y\"], axis=1, inplace=True)\n",
    "            else:\n",
    "                snhp = df.aggregate(geogs[country], year).rename({\"OBS_VALUE\": \"HOUSEHOLDS\"}, axis=1)\n",
    "        else:\n",
    "            snhp = df.aggregate(\n",
    "                geogs[country], max_year-1).merge(\n",
    "                df.aggregate(geogs[country], max_year), \n",
    "                left_on=\"GEOGRAPHY_CODE\", right_on=\"GEOGRAPHY_CODE\")\n",
    "            snhp[\"HOUSEHOLDS\"] = snhp.OBS_VALUE_y + (snhp.OBS_VALUE_y - snhp.OBS_VALUE_x) * (year - max_year)\n",
    "            snhp[\"PROJECTED_YEAR_NAME\"] = year\n",
    "            snhp.drop([\"PROJECTED_YEAR_NAME_x\", \"OBS_VALUE_x\", \"PROJECTED_YEAR_NAME_y\", \"OBS_VALUE_y\"], axis=1, inplace=True)\n",
    "\n",
    "        allsnhp = allsnhp.append(snhp, ignore_index=True, sort=False)\n",
    "\n",
    "    return allsnhp\n",
    "\n",
    "def read_excel_into_df(filename, sheet_name):\n",
    "    \n",
    "    years = [str(x) for x in range(2004, 2050)]\n",
    "    types = {str(year): int for year in years}\n",
    "    \n",
    "    return pd.read_excel(\n",
    "        filename, \n",
    "        sheet_name=sheet_name, \n",
    "        header=3, \n",
    "        index_col=0,\n",
    "        names=['Area Name'].extend(years),\n",
    "        nrows=22,\n",
    "        dtype=types\n",
    "    )\n",
    "\n",
    "def process_df(df):\n",
    "    df = df.dropna(\n",
    "        ).reset_index(\n",
    "        ).melt(\n",
    "            id_vars='Area Name',\n",
    "            var_name='timestep',\n",
    "            value_name='dwellings')\n",
    "    df = df.set_index(['Area Name', 'timestep'])\n",
    "    return df\n",
    "\n",
    "lad_nmcds = pd.read_csv(os.path.join(data_path, 'lad_nmcd_changes.csv'))\n",
    "lad_nmcds = lad_nmcds[['lad16nm', 'lad16cd']]\n",
    "all_lad_nms = set(lad_nmcds.lad16nm)\n",
    "\n",
    "def add_national_data(df, lad_nmcds, snhp):\n",
    "    all_lads = set(lad_nmcds['lad16cd'])\n",
    "    arc_lads = set(df.reset_index()['lad16cd'].unique())\n",
    "    required_lads = all_lads - arc_lads\n",
    "\n",
    "    years = list(df['timestep'].unique())\n",
    "    for year in years:\n",
    "        national_data = get_households(year, required_lads, snhp)\n",
    "        national_data = national_data.rename(columns={'GEOGRAPHY_CODE': 'lad16cd',\n",
    "                                      'PROJECTED_YEAR_NAME': 'timestep',\n",
    "                                      'HOUSEHOLDS': 'dwellings'})\n",
    "        df = df.append(national_data)\n",
    "    return df\n",
    "\n",
    "def add_lad_codes(df):\n",
    "\n",
    "    baseline_lad_nms = set(df.reset_index()['Area Name'].unique())\n",
    "    df_wlad = df.reset_index().merge(lad_nmcds, \n",
    "                                     left_on='Area Name', \n",
    "                                     right_on='lad16nm').drop(columns='Area Name')\n",
    "    return df_wlad\n",
    "\n",
    "def write_out(df, filename):\n",
    "    df.to_csv(os.path.join(output_path, filename), index=False)"
   ]
  },
  {
   "cell_type": "code",
   "execution_count": 4,
   "metadata": {},
   "outputs": [
    {
     "name": "stdout",
     "output_type": "stream",
     "text": [
      "Collating SNHP data for England...\n",
      "Collating SNHP data for Wales...\n",
      "Collating SNHP data for Scotland...\n",
      "Collating SNHP data for Northern Ireland...\n"
     ]
    },
    {
     "name": "stderr",
     "output_type": "stream",
     "text": [
      "/Users/will2/miniconda3/envs/smif/lib/python3.7/site-packages/pandas/core/frame.py:6692: FutureWarning: Sorting because non-concatenation axis is not aligned. A future version\n",
      "of pandas will change to not sort by default.\n",
      "\n",
      "To accept the future behavior, pass 'sort=False'.\n",
      "\n",
      "To retain the current behavior and silence the warning, pass 'sort=True'.\n",
      "\n",
      "  sort=sort)\n"
     ]
    }
   ],
   "source": [
    "baseline = read_excel_into_df(baseline_file, 'Projection dwelling baseline')\n",
    "expansion = read_excel_into_df(expansion_file, 'Projection Expansion data')\n",
    "settlements = read_excel_into_df(settlements_file, 'Projection New Settlem data')\n",
    "unplanned = read_excel_into_df(unplanned_file, 'Projection UnplannedDev')\n",
    "\n",
    "arc_lads = set(baseline.reset_index()['Area Name'].unique())\n",
    "\n",
    "baseline = process_df(baseline)\n",
    "expansion = process_df(expansion)\n",
    "settlements = process_df(settlements)\n",
    "unplanned = process_df(unplanned)\n",
    "\n",
    "baseline = add_lad_codes(baseline)\n",
    "expansion = add_lad_codes(expansion)\n",
    "settlements = add_lad_codes(settlements)\n",
    "unplanned = add_lad_codes(unplanned)\n",
    "\n",
    "snhp = SNHPData.SNHPData()\n",
    "\n",
    "baseline = add_national_data(baseline, lad_nmcds, snhp)\n",
    "expansion = add_national_data(expansion, lad_nmcds, snhp)\n",
    "settlements = add_national_data(settlements, lad_nmcds, snhp)\n",
    "unplanned = add_national_data(unplanned, lad_nmcds, snhp)\n",
    "\n",
    "write_out(baseline, 'baseline.csv')\n",
    "write_out(expansion, 'expansion.csv')\n",
    "write_out(settlements, 'settlements.csv')\n",
    "write_out(unplanned, 'unplanned.csv')"
   ]
  },
  {
   "cell_type": "markdown",
   "metadata": {},
   "source": [
    "## Check the data"
   ]
  },
  {
   "cell_type": "code",
   "execution_count": 5,
   "metadata": {},
   "outputs": [],
   "source": [
    "def filter_on_arc(df, lad_nmcds, arc_lads):\n",
    "    \n",
    "    df = df.reset_index()\n",
    "    \n",
    "    just_arc_lads = df.lad16cd.isin(lad_nmcds[lad_nmcds.lad16nm.isin(arc_lads)].lad16cd)\n",
    "    \n",
    "    df = df[just_arc_lads]\n",
    "    df = df.set_index(['timestep', 'lad16cd'])\n",
    "    return df"
   ]
  },
  {
   "cell_type": "code",
   "execution_count": 6,
   "metadata": {},
   "outputs": [
    {
     "data": {
      "text/plain": [
       "<matplotlib.axes._subplots.AxesSubplot at 0x11f675c18>"
      ]
     },
     "execution_count": 6,
     "metadata": {},
     "output_type": "execute_result"
    },
    {
     "data": {
      "image/png": "[encoded data removed]",
      "text/plain": [
       "<Figure size 432x288 with 1 Axes>"
      ]
     },
     "metadata": {
      "needs_background": "light"
     },
     "output_type": "display_data"
    }
   ],
   "source": [
    "bas = filter_on_arc(baseline, lad_nmcds, arc_lads)\n",
    "bas['unplanned'] = filter_on_arc(unplanned, lad_nmcds, arc_lads)['dwellings']\n",
    "bas['expansion'] = filter_on_arc(expansion, lad_nmcds, arc_lads)['dwellings']\n",
    "bas['settlements'] = filter_on_arc(settlements, lad_nmcds, arc_lads)['dwellings']\n",
    "bas.rename(columns={'dwellings': 'baseline'}).drop(columns=['index']).groupby(\n",
    "    by='timestep').sum().plot()"
   ]
  },
  {
   "cell_type": "code",
   "execution_count": 11,
   "metadata": {},
   "outputs": [
    {
     "data": {
      "text/plain": [
       "'Number of LADs in data: 380'"
      ]
     },
     "execution_count": 11,
     "metadata": {},
     "output_type": "execute_result"
    }
   ],
   "source": [
    "\"Number of LADs in data: {}\".format(len(baseline.lad16cd.unique()))"
   ]
  },
  {
   "cell_type": "code",
   "execution_count": null,
   "metadata": {},
   "outputs": [],
   "source": []
  }
 ],
 "metadata": {
  "kernelspec": {
   "display_name": "Python 3",
   "language": "python",
   "name": "python3"
  },
  "language_info": {
   "codemirror_mode": {
    "name": "ipython",
    "version": 3
   },
   "file_extension": ".py",
   "mimetype": "text/x-python",
   "name": "python",
   "nbconvert_exporter": "python",
   "pygments_lexer": "ipython3",
   "version": "3.7.1"
  }
 },
 "nbformat": 4,
 "nbformat_minor": 2
}
